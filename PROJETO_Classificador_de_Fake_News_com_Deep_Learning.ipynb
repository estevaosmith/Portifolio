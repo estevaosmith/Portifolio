{
  "nbformat": 4,
  "nbformat_minor": 0,
  "metadata": {
    "colab": {
      "provenance": [],
      "include_colab_link": true
    },
    "kernelspec": {
      "name": "python3",
      "display_name": "Python 3"
    },
    "accelerator": "GPU"
  },
  "cells": [
    {
      "cell_type": "markdown",
      "metadata": {
        "id": "view-in-github",
        "colab_type": "text"
      },
      "source": [
        "<a href=\"https://colab.research.google.com/github/estevaosmith/Portifolio/blob/main/PROJETO_Classificador_de_Fake_News_com_Deep_Learning.ipynb\" target=\"_parent\"><img src=\"https://colab.research.google.com/assets/colab-badge.svg\" alt=\"Open In Colab\"/></a>"
      ]
    },
    {
      "cell_type": "markdown",
      "metadata": {
        "id": "Y3VTmFDs_3AM"
      },
      "source": [
        "# Classificador de Fake News\n",
        "\n",
        "\n",
        "Estamos na era digital, onde o acesso à informação é mais fácil do que nunca, e essa acessibilidade continua crescendo, tornando-se mais rápida e abrangente.\n",
        "\n",
        "Embora essa evolução traga benefícios, também acarreta problemas e riscos. Neste contexto, um dos maiores desafios com os quais nos deparamos são as Fake News.\n",
        "<p align=center>\n",
        "  <img src=\"https://img.freepik.com/fotos-gratis/conceito-de-noticias-falsas_23-2148836986.jpg?w=740\" height=\"5%\">\n",
        "</p>\n",
        "\n",
        "Certamente, você já se deparou com uma delas. Em uma era dominada pela informação, a desinformação torna-se um desafio significativo.\n",
        "\n",
        "Em resumo, Fake News são, como o próprio nome sugere, notícias falsas. Elas podem variar desde uma simples discrepância estatística até a divulgação de eventos completamente inventados.\n",
        "\n",
        "\n",
        "\n",
        "\n",
        "\n",
        "\n",
        "\n"
      ]
    },
    {
      "cell_type": "markdown",
      "metadata": {
        "id": "CKgjDgkbTMLL"
      },
      "source": [
        "## Como isso influencia nossa vida?\n",
        "\n",
        "Como de costume, nós tendemos a acreditar nos grandes veículos de mídia, ou de pessoas do nosso ciclo de amigos que nos encaminham notícias em redes sociais. Dessa forma, criamos o hábito de não checar nossas fontes, e assim, acreditamos e disseminamos notícias falsas, às vezes sem nem saber.\n",
        "\n",
        "Isso se torna um grande problema quando afeta o resultado de algo importante no bem comum de nossa sociedade, como resultados de eleições, opinião pública sobre determinados projetos, políticas públicas, e até pessoas públicas, sejam elas do meio político, artístico, jornalístico, ou qualquer outro."
      ]
    },
    {
      "cell_type": "markdown",
      "metadata": {
        "id": "dXTHFaBnTtxq"
      },
      "source": [
        "## O Projeto\n",
        "\n",
        "Atualmente, dispomos de ferramentas que auxiliam na identificação e filtragem de notícias falsas. Utilizando técnicas de Machine Learning, como Redes Neurais, torna-se mais viável a tarefa de examinar múltiplas fontes de notícias para discernir entre informações falsas e verdadeiras.\n",
        "\n",
        "O propósito do projeto é desenvolver um modelo capaz de classificar notícias com a máxima precisão possível, distinguindo entre falsas e factuais. Para alcançar esse objetivo, será empregada a biblioteca TensorFlow para treinar Redes Neurais que desempenhem essa função."
      ]
    },
    {
      "cell_type": "code",
      "metadata": {
        "id": "zb0mFDoc4ftY"
      },
      "source": [
        "# importando os pacotes necessarios\n",
        "import pandas as pd\n",
        "import numpy as np\n",
        "import matplotlib.pyplot as plt\n",
        "import seaborn as sns\n",
        "import tensorflow as tf\n",
        "from tensorflow import keras\n",
        "\n",
        "# configurando o noteebook\n",
        "np.random.seed(42)\n",
        "sns.set_style()\n",
        "\n",
        "# filtrar mensagens de warning\n",
        "import warnings\n",
        "warnings.filterwarnings('ignore')\n"
      ],
      "execution_count": 2,
      "outputs": []
    },
    {
      "cell_type": "markdown",
      "metadata": {
        "id": "OnQFYEpbFpzx"
      },
      "source": [
        "### Os Dados\n",
        "Nosso conjunto de dados é brasileiro, composto por cerca de 12.000 notícias de várias fontes, incluindo UOL, Extra e outras fontes de notícias. A classificação entre fake news ou não foi realizada por diversas agências de verificação de fatos, como a Boatos.org e a Fato ou Fake, entre outras.\n",
        "\n",
        "**Dicionario de variaveis:**\n",
        "Title\t- Título do artigo\n",
        "\n",
        "Sub-title - Breve descrição da notícia\n",
        "\n",
        "News\t- Informação sobre o artigo\n",
        "\n",
        "Category - \tNotícias agrupadas de acordo com suas informações\n",
        "\n",
        "Author\t- Autor da publicação\n",
        "\n",
        "Date - \tData de publicação\n",
        "\n",
        "URL - \tEndereço web do artigo\n",
        "\n",
        "Class\t0-  Notícias falsas\n",
        "\n",
        "Class 1- Notícias reais"
      ]
    },
    {
      "cell_type": "code",
      "metadata": {
        "id": "jPnyxQqJO4dF",
        "colab": {
          "base_uri": "https://localhost:8080/",
          "height": 466
        },
        "outputId": "bc8e08da-10c7-4c9b-98f6-3c7a2c87f4a1"
      },
      "source": [
        "# carregando e verificando os dados\n",
        "df = pd.read_csv('/content/FakeRecogna (1).csv')\n",
        "\n",
        "print(df.shape)\n",
        "df.head()"
      ],
      "execution_count": 3,
      "outputs": [
        {
          "output_type": "stream",
          "name": "stdout",
          "text": [
            "(11903, 8)\n"
          ]
        },
        {
          "output_type": "execute_result",
          "data": {
            "text/plain": [
              "                                              Titulo  \\\n",
              "0  \\n\\nPapa Francisco foi preso sob acusação de t...   \n",
              "1  Equador prepara cova coletiva para mortos por ...   \n",
              "2  Air France voltará a operar voo direto Pequim-...   \n",
              "3  Marfrig intensifica venda de carne do Brasil a...   \n",
              "4  As parciais das eleições de 2014 alternaram ma...   \n",
              "\n",
              "                                           Subtitulo  \\\n",
              "0  Boato – Ocorreu um apagão no Vaticano. O papa ...   \n",
              "1                                                NaN   \n",
              "2                                                NaN   \n",
              "3                                                NaN   \n",
              "4                                                NaN   \n",
              "\n",
              "                                             Noticia       Categoria  \\\n",
              "0  apagão vaticano papar presar acusação tráfico ...  entretenimento   \n",
              "1  o governar equador anunciar preparar cova cole...           saúde   \n",
              "2  o companhia air france operar voar direto pequ...           saúde   \n",
              "3  o marfrig global foods retomar vender carnar b...           saúde   \n",
              "4  o assunto voltar o compartilhar rede social ju...  entretenimento   \n",
              "\n",
              "                Data              Autor  \\\n",
              "0         11/01/2021  \\nEdgard Matsuki    \n",
              "1  27/03/2020 18h25   27/03/2020 18h25    \n",
              "2  07/08/2020 13h42   07/08/2020 13h42    \n",
              "3  27/04/2020 14h53   27/04/2020 14h53    \n",
              "4         31/07/2021       Gilmar Lopes   \n",
              "\n",
              "                                                 URL  Classe  \n",
              "0  https://www.boatos.org/religiao/papa-francisco...     0.0  \n",
              "1  https://noticias.uol.com.br/internacional/ulti...     1.0  \n",
              "2  https://www.uol.com.br/nossa/noticias/afp/2020...     1.0  \n",
              "3  https://economia.uol.com.br/noticias/reuters/2...     1.0  \n",
              "4  https://www.e-farsas.com/as-parciais-das-eleic...     0.0  "
            ],
            "text/html": [
              "\n",
              "  <div id=\"df-610faead-f1b4-4ed2-9e9d-a022fa179203\" class=\"colab-df-container\">\n",
              "    <div>\n",
              "<style scoped>\n",
              "    .dataframe tbody tr th:only-of-type {\n",
              "        vertical-align: middle;\n",
              "    }\n",
              "\n",
              "    .dataframe tbody tr th {\n",
              "        vertical-align: top;\n",
              "    }\n",
              "\n",
              "    .dataframe thead th {\n",
              "        text-align: right;\n",
              "    }\n",
              "</style>\n",
              "<table border=\"1\" class=\"dataframe\">\n",
              "  <thead>\n",
              "    <tr style=\"text-align: right;\">\n",
              "      <th></th>\n",
              "      <th>Titulo</th>\n",
              "      <th>Subtitulo</th>\n",
              "      <th>Noticia</th>\n",
              "      <th>Categoria</th>\n",
              "      <th>Data</th>\n",
              "      <th>Autor</th>\n",
              "      <th>URL</th>\n",
              "      <th>Classe</th>\n",
              "    </tr>\n",
              "  </thead>\n",
              "  <tbody>\n",
              "    <tr>\n",
              "      <th>0</th>\n",
              "      <td>\\n\\nPapa Francisco foi preso sob acusação de t...</td>\n",
              "      <td>Boato – Ocorreu um apagão no Vaticano. O papa ...</td>\n",
              "      <td>apagão vaticano papar presar acusação tráfico ...</td>\n",
              "      <td>entretenimento</td>\n",
              "      <td>11/01/2021</td>\n",
              "      <td>\\nEdgard Matsuki</td>\n",
              "      <td>https://www.boatos.org/religiao/papa-francisco...</td>\n",
              "      <td>0.0</td>\n",
              "    </tr>\n",
              "    <tr>\n",
              "      <th>1</th>\n",
              "      <td>Equador prepara cova coletiva para mortos por ...</td>\n",
              "      <td>NaN</td>\n",
              "      <td>o governar equador anunciar preparar cova cole...</td>\n",
              "      <td>saúde</td>\n",
              "      <td>27/03/2020 18h25</td>\n",
              "      <td>27/03/2020 18h25</td>\n",
              "      <td>https://noticias.uol.com.br/internacional/ulti...</td>\n",
              "      <td>1.0</td>\n",
              "    </tr>\n",
              "    <tr>\n",
              "      <th>2</th>\n",
              "      <td>Air France voltará a operar voo direto Pequim-...</td>\n",
              "      <td>NaN</td>\n",
              "      <td>o companhia air france operar voar direto pequ...</td>\n",
              "      <td>saúde</td>\n",
              "      <td>07/08/2020 13h42</td>\n",
              "      <td>07/08/2020 13h42</td>\n",
              "      <td>https://www.uol.com.br/nossa/noticias/afp/2020...</td>\n",
              "      <td>1.0</td>\n",
              "    </tr>\n",
              "    <tr>\n",
              "      <th>3</th>\n",
              "      <td>Marfrig intensifica venda de carne do Brasil a...</td>\n",
              "      <td>NaN</td>\n",
              "      <td>o marfrig global foods retomar vender carnar b...</td>\n",
              "      <td>saúde</td>\n",
              "      <td>27/04/2020 14h53</td>\n",
              "      <td>27/04/2020 14h53</td>\n",
              "      <td>https://economia.uol.com.br/noticias/reuters/2...</td>\n",
              "      <td>1.0</td>\n",
              "    </tr>\n",
              "    <tr>\n",
              "      <th>4</th>\n",
              "      <td>As parciais das eleições de 2014 alternaram ma...</td>\n",
              "      <td>NaN</td>\n",
              "      <td>o assunto voltar o compartilhar rede social ju...</td>\n",
              "      <td>entretenimento</td>\n",
              "      <td>31/07/2021</td>\n",
              "      <td>Gilmar Lopes</td>\n",
              "      <td>https://www.e-farsas.com/as-parciais-das-eleic...</td>\n",
              "      <td>0.0</td>\n",
              "    </tr>\n",
              "  </tbody>\n",
              "</table>\n",
              "</div>\n",
              "    <div class=\"colab-df-buttons\">\n",
              "\n",
              "  <div class=\"colab-df-container\">\n",
              "    <button class=\"colab-df-convert\" onclick=\"convertToInteractive('df-610faead-f1b4-4ed2-9e9d-a022fa179203')\"\n",
              "            title=\"Convert this dataframe to an interactive table.\"\n",
              "            style=\"display:none;\">\n",
              "\n",
              "  <svg xmlns=\"http://www.w3.org/2000/svg\" height=\"24px\" viewBox=\"0 -960 960 960\">\n",
              "    <path d=\"M120-120v-720h720v720H120Zm60-500h600v-160H180v160Zm220 220h160v-160H400v160Zm0 220h160v-160H400v160ZM180-400h160v-160H180v160Zm440 0h160v-160H620v160ZM180-180h160v-160H180v160Zm440 0h160v-160H620v160Z\"/>\n",
              "  </svg>\n",
              "    </button>\n",
              "\n",
              "  <style>\n",
              "    .colab-df-container {\n",
              "      display:flex;\n",
              "      gap: 12px;\n",
              "    }\n",
              "\n",
              "    .colab-df-convert {\n",
              "      background-color: #E8F0FE;\n",
              "      border: none;\n",
              "      border-radius: 50%;\n",
              "      cursor: pointer;\n",
              "      display: none;\n",
              "      fill: #1967D2;\n",
              "      height: 32px;\n",
              "      padding: 0 0 0 0;\n",
              "      width: 32px;\n",
              "    }\n",
              "\n",
              "    .colab-df-convert:hover {\n",
              "      background-color: #E2EBFA;\n",
              "      box-shadow: 0px 1px 2px rgba(60, 64, 67, 0.3), 0px 1px 3px 1px rgba(60, 64, 67, 0.15);\n",
              "      fill: #174EA6;\n",
              "    }\n",
              "\n",
              "    .colab-df-buttons div {\n",
              "      margin-bottom: 4px;\n",
              "    }\n",
              "\n",
              "    [theme=dark] .colab-df-convert {\n",
              "      background-color: #3B4455;\n",
              "      fill: #D2E3FC;\n",
              "    }\n",
              "\n",
              "    [theme=dark] .colab-df-convert:hover {\n",
              "      background-color: #434B5C;\n",
              "      box-shadow: 0px 1px 3px 1px rgba(0, 0, 0, 0.15);\n",
              "      filter: drop-shadow(0px 1px 2px rgba(0, 0, 0, 0.3));\n",
              "      fill: #FFFFFF;\n",
              "    }\n",
              "  </style>\n",
              "\n",
              "    <script>\n",
              "      const buttonEl =\n",
              "        document.querySelector('#df-610faead-f1b4-4ed2-9e9d-a022fa179203 button.colab-df-convert');\n",
              "      buttonEl.style.display =\n",
              "        google.colab.kernel.accessAllowed ? 'block' : 'none';\n",
              "\n",
              "      async function convertToInteractive(key) {\n",
              "        const element = document.querySelector('#df-610faead-f1b4-4ed2-9e9d-a022fa179203');\n",
              "        const dataTable =\n",
              "          await google.colab.kernel.invokeFunction('convertToInteractive',\n",
              "                                                    [key], {});\n",
              "        if (!dataTable) return;\n",
              "\n",
              "        const docLinkHtml = 'Like what you see? Visit the ' +\n",
              "          '<a target=\"_blank\" href=https://colab.research.google.com/notebooks/data_table.ipynb>data table notebook</a>'\n",
              "          + ' to learn more about interactive tables.';\n",
              "        element.innerHTML = '';\n",
              "        dataTable['output_type'] = 'display_data';\n",
              "        await google.colab.output.renderOutput(dataTable, element);\n",
              "        const docLink = document.createElement('div');\n",
              "        docLink.innerHTML = docLinkHtml;\n",
              "        element.appendChild(docLink);\n",
              "      }\n",
              "    </script>\n",
              "  </div>\n",
              "\n",
              "\n",
              "<div id=\"df-1bc4de50-63b9-467c-abac-7830f9777321\">\n",
              "  <button class=\"colab-df-quickchart\" onclick=\"quickchart('df-1bc4de50-63b9-467c-abac-7830f9777321')\"\n",
              "            title=\"Suggest charts\"\n",
              "            style=\"display:none;\">\n",
              "\n",
              "<svg xmlns=\"http://www.w3.org/2000/svg\" height=\"24px\"viewBox=\"0 0 24 24\"\n",
              "     width=\"24px\">\n",
              "    <g>\n",
              "        <path d=\"M19 3H5c-1.1 0-2 .9-2 2v14c0 1.1.9 2 2 2h14c1.1 0 2-.9 2-2V5c0-1.1-.9-2-2-2zM9 17H7v-7h2v7zm4 0h-2V7h2v10zm4 0h-2v-4h2v4z\"/>\n",
              "    </g>\n",
              "</svg>\n",
              "  </button>\n",
              "\n",
              "<style>\n",
              "  .colab-df-quickchart {\n",
              "      --bg-color: #E8F0FE;\n",
              "      --fill-color: #1967D2;\n",
              "      --hover-bg-color: #E2EBFA;\n",
              "      --hover-fill-color: #174EA6;\n",
              "      --disabled-fill-color: #AAA;\n",
              "      --disabled-bg-color: #DDD;\n",
              "  }\n",
              "\n",
              "  [theme=dark] .colab-df-quickchart {\n",
              "      --bg-color: #3B4455;\n",
              "      --fill-color: #D2E3FC;\n",
              "      --hover-bg-color: #434B5C;\n",
              "      --hover-fill-color: #FFFFFF;\n",
              "      --disabled-bg-color: #3B4455;\n",
              "      --disabled-fill-color: #666;\n",
              "  }\n",
              "\n",
              "  .colab-df-quickchart {\n",
              "    background-color: var(--bg-color);\n",
              "    border: none;\n",
              "    border-radius: 50%;\n",
              "    cursor: pointer;\n",
              "    display: none;\n",
              "    fill: var(--fill-color);\n",
              "    height: 32px;\n",
              "    padding: 0;\n",
              "    width: 32px;\n",
              "  }\n",
              "\n",
              "  .colab-df-quickchart:hover {\n",
              "    background-color: var(--hover-bg-color);\n",
              "    box-shadow: 0 1px 2px rgba(60, 64, 67, 0.3), 0 1px 3px 1px rgba(60, 64, 67, 0.15);\n",
              "    fill: var(--button-hover-fill-color);\n",
              "  }\n",
              "\n",
              "  .colab-df-quickchart-complete:disabled,\n",
              "  .colab-df-quickchart-complete:disabled:hover {\n",
              "    background-color: var(--disabled-bg-color);\n",
              "    fill: var(--disabled-fill-color);\n",
              "    box-shadow: none;\n",
              "  }\n",
              "\n",
              "  .colab-df-spinner {\n",
              "    border: 2px solid var(--fill-color);\n",
              "    border-color: transparent;\n",
              "    border-bottom-color: var(--fill-color);\n",
              "    animation:\n",
              "      spin 1s steps(1) infinite;\n",
              "  }\n",
              "\n",
              "  @keyframes spin {\n",
              "    0% {\n",
              "      border-color: transparent;\n",
              "      border-bottom-color: var(--fill-color);\n",
              "      border-left-color: var(--fill-color);\n",
              "    }\n",
              "    20% {\n",
              "      border-color: transparent;\n",
              "      border-left-color: var(--fill-color);\n",
              "      border-top-color: var(--fill-color);\n",
              "    }\n",
              "    30% {\n",
              "      border-color: transparent;\n",
              "      border-left-color: var(--fill-color);\n",
              "      border-top-color: var(--fill-color);\n",
              "      border-right-color: var(--fill-color);\n",
              "    }\n",
              "    40% {\n",
              "      border-color: transparent;\n",
              "      border-right-color: var(--fill-color);\n",
              "      border-top-color: var(--fill-color);\n",
              "    }\n",
              "    60% {\n",
              "      border-color: transparent;\n",
              "      border-right-color: var(--fill-color);\n",
              "    }\n",
              "    80% {\n",
              "      border-color: transparent;\n",
              "      border-right-color: var(--fill-color);\n",
              "      border-bottom-color: var(--fill-color);\n",
              "    }\n",
              "    90% {\n",
              "      border-color: transparent;\n",
              "      border-bottom-color: var(--fill-color);\n",
              "    }\n",
              "  }\n",
              "</style>\n",
              "\n",
              "  <script>\n",
              "    async function quickchart(key) {\n",
              "      const quickchartButtonEl =\n",
              "        document.querySelector('#' + key + ' button');\n",
              "      quickchartButtonEl.disabled = true;  // To prevent multiple clicks.\n",
              "      quickchartButtonEl.classList.add('colab-df-spinner');\n",
              "      try {\n",
              "        const charts = await google.colab.kernel.invokeFunction(\n",
              "            'suggestCharts', [key], {});\n",
              "      } catch (error) {\n",
              "        console.error('Error during call to suggestCharts:', error);\n",
              "      }\n",
              "      quickchartButtonEl.classList.remove('colab-df-spinner');\n",
              "      quickchartButtonEl.classList.add('colab-df-quickchart-complete');\n",
              "    }\n",
              "    (() => {\n",
              "      let quickchartButtonEl =\n",
              "        document.querySelector('#df-1bc4de50-63b9-467c-abac-7830f9777321 button');\n",
              "      quickchartButtonEl.style.display =\n",
              "        google.colab.kernel.accessAllowed ? 'block' : 'none';\n",
              "    })();\n",
              "  </script>\n",
              "</div>\n",
              "\n",
              "    </div>\n",
              "  </div>\n"
            ],
            "application/vnd.google.colaboratory.intrinsic+json": {
              "type": "dataframe",
              "variable_name": "df",
              "summary": "{\n  \"name\": \"df\",\n  \"rows\": 11903,\n  \"fields\": [\n    {\n      \"column\": \"Titulo\",\n      \"properties\": {\n        \"dtype\": \"string\",\n        \"num_unique_values\": 11662,\n        \"samples\": [\n          \"Governo diz que pode atrasar para pagar, mas o Bolsa Fam\\u00edlia n\\u00e3o acabar\\u00e1  \",\n          \"\\n\\nCasamento de Preta Gil foi pago com a Lei Rouanet #boato \\n\",\n          \"Aprova\\u00e7\\u00e3o emergencial de vacinas em outros pa\\u00edses n\\u00e3o pode embasar decis\\u00e3o da Anvisa, diz presidente  \"\n        ],\n        \"semantic_type\": \"\",\n        \"description\": \"\"\n      }\n    },\n    {\n      \"column\": \"Subtitulo\",\n      \"properties\": {\n        \"dtype\": \"category\",\n        \"num_unique_values\": 5410,\n        \"samples\": [\n          \"Mensagens circulam ap\\u00f3s sumi\\u00e7o do vereador na web. Mas elas n\\u00e3o s\\u00e3o verdadeiras. Twitter diz n\\u00e3o ter tomado qualquer medida contra o vereador. Facebook afirma que vers\\u00e3o que circula \\u00e9 falsa. Tamb\\u00e9m n\\u00e3o h\\u00e1 nenhuma decis\\u00e3o neste sentido por parte do ministro do STF.\",\n          \"Onde antes ficava a pista de dan\\u00e7a, agora existem prateleiras com comidas, bebidas e verduras, e um DJ que toca as m\\u00fasicas que os clientes pedem enquanto fazem compras.\",\n          \"Boato \\u2013 Um morador da \\u201csua cidade\\u201d \\u00e9 o mais novo milion\\u00e1rio da Mega-Sena. Ele ganhou o pr\\u00eamio acumulado e todos os detalhes voc\\u00ea pode ver no link.\"\n        ],\n        \"semantic_type\": \"\",\n        \"description\": \"\"\n      }\n    },\n    {\n      \"column\": \"Noticia\",\n      \"properties\": {\n        \"dtype\": \"string\",\n        \"num_unique_values\": 11886,\n        \"samples\": [\n          \"\\u201c ler agradacer o deus vidar e pa\\u00eds triste o noticiar midia espalhar mundo inteirar nova_yorque abrir valar comun deitar pessoa morto coronavirus lamentar situa\\u00e7\\u00e3o crist\\u00e3o sic \\u201d indicar o legendar publica\\u00e7\\u00e3o facebook compartilhar o dia abril d haver postagens circular n redar social espanhol associar o o coronav\\u00edrus o indica\\u00e7\\u00e3o tratar pessoa respeitar o quarentenar equador buscar reverso foto motor google e yandex mostrar registro comunica\\u00e7\\u00e3o indicar o imagem corresponder o tumulto ocorrer setembro ar\\u00e1bio sa\\u00fade durante peregrina\\u00e7\\u00e3o meco o fotografia aparecer cr\\u00e9dito blog africanar registrar o incidente\",\n          \"O m\\u00e9dico Anthony Fauci, principal conselheiro em epidemiologia na Casa Branca, afirmou nesta ter\\u00e7a-feira (30) que o novo v\\u00edrus descoberto em porcos na China se assemelha aos v\\u00edrus de gripe que causaram as pandemias de 2008 e 1918.  Assim como os v\\u00edrus da chamada \\\"gripe su\\u00edna\\\" e da \\\"gripe espanhola\\\", esse novo influenza \\u00e9 uma variante do H1N1 \\u2014 est\\u00e1 sendo chamado por cientistas G4 EA H1N1. A descoberta vem de estudos que levaram anos em abatedouros chineses, e, por enquanto, N\\u00c3O h\\u00e1 relatos de transmiss\\u00e3o entre humanos (leia mais no fim da reportagem).  Fauci explicou a parlamentares no Congresso dos Estados Unidos qual o risco desse novo v\\u00edrus de gripe \\u00e0 sa\\u00fade humana. \\\"Em outras palavras, quando voc\\u00ea tem um novo v\\u00edrus que se torna um v\\u00edrus pand\\u00eamico \\u00e9 porque sofreu muta\\u00e7\\u00f5es e/ou por reorganiza\\u00e7\\u00e3o ou mudan\\u00e7as de genes\\\", afirmou.  O estudo sobre o novo v\\u00edrus influenza foi publicado na segunda-feira na revista cient\\u00edfica \\\"Proceedings of the National Academy of Sciences\\\" por pesquisadores da Universidade Agricultural Chinesa com an\\u00e1lises em mais de 30 mil porcos entre 2011 e 2018. Veja mais no V\\u00cdDEO acima.\",\n          \"circular rede social imagem soldar ex\\u00e9rcito trabalhar obrar transposi\\u00e7\\u00e3o rir francisco legendar acompanhar o imagem feito durante o governar bolsonaro o m\\u00eddia esconder informa\\u00e7\\u00e3o o imagem feito durante o governar bolsonaro durante o gest\\u00e3o dilma rousseff haver diverso registro imagem internet ano anterior o o governar bolsonaro o ex\\u00e9rcito o imagem feito durante trabalho florestar pe 2011/2012 o 1\\u00ba grupamento engenhar ex\\u00e9rcito informar o imagem corresponder constru\\u00e7\\u00e3o valeta drenagem externo canal aproxima\\u00e7\\u00e3o eixo ler projeto integra\\u00e7\\u00e3o rir francisco trabalhar executar militar ex\\u00e9rcito precisamente 3\\u00ba batalh\\u00e3o engenhar constru\\u00e7\\u00e3o noto\"\n        ],\n        \"semantic_type\": \"\",\n        \"description\": \"\"\n      }\n    },\n    {\n      \"column\": \"Categoria\",\n      \"properties\": {\n        \"dtype\": \"category\",\n        \"num_unique_values\": 6,\n        \"samples\": [\n          \"entretenimento\",\n          \"sa\\u00fade\",\n          \"pol\\u00edtica\"\n        ],\n        \"semantic_type\": \"\",\n        \"description\": \"\"\n      }\n    },\n    {\n      \"column\": \"Data\",\n      \"properties\": {\n        \"dtype\": \"string\",\n        \"num_unique_values\": 8787,\n        \"samples\": [\n          \"06/04/2020 18h30 \",\n          \"15/01/2021 06h04 \",\n          \"01/04/2020 14h41Atualizada em 01/04/2020 15h10 \"\n        ],\n        \"semantic_type\": \"\",\n        \"description\": \"\"\n      }\n    },\n    {\n      \"column\": \"Autor\",\n      \"properties\": {\n        \"dtype\": \"category\",\n        \"num_unique_values\": 4405,\n        \"samples\": [\n          \"Daniel Weterman e Rafael Moraes Moura\",\n          \"Renata Cafardo e J\\u00falia Marques\",\n          \"25/06/2020 11h39 \"\n        ],\n        \"semantic_type\": \"\",\n        \"description\": \"\"\n      }\n    },\n    {\n      \"column\": \"URL\",\n      \"properties\": {\n        \"dtype\": \"string\",\n        \"num_unique_values\": 11675,\n        \"samples\": [\n          \"https://noticias.uol.com.br/internacional/ultimas-noticias/2021/01/29/agencia-europeia-de-medicamentos-recomenda-autorizacao-da-vacina-de-oxford.htm\",\n          \"https://www.uol.com.br/universa/noticias/redacao/2020/04/09/gestantes-e-puerperas-entram-no-grupo-de-risco-para-a-covid-19-entenda.htm\",\n          \"https://checamos.afp.com//franca-incluiu-na-lei-um-novo-criterio-para-interrupcao-medica-da-gravidez-ja-possivel-em-toda\"\n        ],\n        \"semantic_type\": \"\",\n        \"description\": \"\"\n      }\n    },\n    {\n      \"column\": \"Classe\",\n      \"properties\": {\n        \"dtype\": \"number\",\n        \"std\": 0.5000210061968373,\n        \"min\": 0.0,\n        \"max\": 1.0,\n        \"num_unique_values\": 2,\n        \"samples\": [\n          1.0,\n          0.0\n        ],\n        \"semantic_type\": \"\",\n        \"description\": \"\"\n      }\n    }\n  ]\n}"
            }
          },
          "metadata": {},
          "execution_count": 3
        }
      ]
    },
    {
      "cell_type": "markdown",
      "source": [
        "#Preprocessamento dos dados\n",
        "Com nosso conjunto de dados em mãos, procederei agora com o pré-processamento para a construção do modelo de Deep Learning. Como lidamos com texto, removerei pontuações e caracteres especiais que não possuem valor algum. Em seguida, converterei as palavras em \"tokens\" para que nosso modelo possa \"compreender\" o texto."
      ],
      "metadata": {
        "id": "tOGYXO4_IspT"
      }
    },
    {
      "cell_type": "code",
      "source": [
        "df['Noticia'] = df['Noticia'].astype(str)"
      ],
      "metadata": {
        "id": "8TgcZ9tzzLFV"
      },
      "execution_count": 4,
      "outputs": []
    },
    {
      "cell_type": "code",
      "source": [
        "import pandas as pd\n",
        "import tensorflow as tf\n",
        "import re\n",
        "import nltk\n",
        "from nltk.corpus import stopwords\n",
        "from nltk.stem.porter import PorterStemmer\n",
        "\n",
        "# Download required NLTK resources\n",
        "nltk.download('stopwords')\n",
        "nltk.download('punkt')\n",
        "nltk.download('portuguese')\n",
        "\n",
        "def preprocess_text(text):\n",
        "\n",
        "    text = text.lower()\n",
        "\n",
        "    text = re.sub(r'<.*?>', '', text)\n",
        "\n",
        "    text = re.sub(r'[^a-zA-Z0-9\\s]', '', text)\n",
        "\n",
        "    tokens = nltk.word_tokenize(text)\n",
        "\n",
        "    stop_words = set(stopwords.words('portuguese'))\n",
        "    tokens = [word for word in tokens if word not in stop_words]\n",
        "\n",
        "    stemmer = PorterStemmer()\n",
        "    tokens = [stemmer.stem(word) for word in tokens]\n",
        "\n",
        "    return tokens\n",
        "\n",
        "df['Noticia_preprocessed'] = df['Noticia'].apply(preprocess_text)\n",
        "\n",
        "print(df['Noticia_preprocessed'].head())"
      ],
      "metadata": {
        "colab": {
          "base_uri": "https://localhost:8080/"
        },
        "id": "mT_u3RN1ycQE",
        "outputId": "19f63257-0949-43e4-ae6c-9fcf8ba5136b"
      },
      "execution_count": 5,
      "outputs": [
        {
          "output_type": "stream",
          "name": "stderr",
          "text": [
            "[nltk_data] Downloading package stopwords to /root/nltk_data...\n",
            "[nltk_data]   Package stopwords is already up-to-date!\n",
            "[nltk_data] Downloading package punkt to /root/nltk_data...\n",
            "[nltk_data]   Package punkt is already up-to-date!\n",
            "[nltk_data] Error loading portuguese: Package 'portuguese' not found\n",
            "[nltk_data]     in index\n"
          ]
        },
        {
          "output_type": "stream",
          "name": "stdout",
          "text": [
            "0    [apago, vaticano, papar, presar, acusao, trfic...\n",
            "1    [governar, equador, anunciar, preparar, cova, ...\n",
            "2    [companhia, air, franc, operar, voar, direto, ...\n",
            "3    [marfrig, global, food, retomar, vender, carna...\n",
            "4    [assunto, voltar, compartilhar, rede, social, ...\n",
            "Name: Noticia_preprocessed, dtype: object\n"
          ]
        }
      ]
    },
    {
      "cell_type": "code",
      "source": [
        "from tensorflow.keras.preprocessing.text import Tokenizer\n",
        "\n",
        "tokenizer = Tokenizer()\n",
        "tokenizer.fit_on_texts(df['Noticia_preprocessed'])\n",
        "vocab_size = len(tokenizer.word_index) + 1"
      ],
      "metadata": {
        "id": "pli8M2JC2o9F"
      },
      "execution_count": 6,
      "outputs": []
    },
    {
      "cell_type": "code",
      "source": [
        "from tensorflow.keras.preprocessing.sequence import pad_sequences\n",
        "\n",
        "tokenized_sequences = tokenizer.texts_to_sequences(df['Noticia_preprocessed'])\n",
        "max_length = max([len(seq) for seq in tokenized_sequences])"
      ],
      "metadata": {
        "id": "lVpjhR4s26xp"
      },
      "execution_count": 7,
      "outputs": []
    },
    {
      "cell_type": "markdown",
      "source": [
        "## Modelo de Deep Learning:\n",
        "\n",
        "Agora com os dados preprocessados, partiremos para o modelo.Vou utilizar as Convolutional Neural Networks (CNNs), elas são uma classe especializada de redes neurais profundas, especialmente projetadas para processar e analisar dados de grade estruturados, como imagens. Elas são amplamente utilizadas em tarefas de visão computacional, como reconhecimento de imagens, detecção de objetos, segmentação de imagens e muito mais."
      ],
      "metadata": {
        "id": "ovwdRdmk3MTv"
      }
    },
    {
      "cell_type": "code",
      "source": [
        "import tensorflow as tf\n",
        "from tensorflow.keras.layers import Embedding, Conv1D, MaxPooling1D, Flatten, Dense, Dropout\n",
        "from tensorflow.keras.models import Sequential\n",
        "\n",
        "model = Sequential([\n",
        "    Embedding(input_dim=vocab_size, output_dim=250, input_length=max_length),\n",
        "    Conv1D(filters=128, kernel_size=5, activation='relu'),\n",
        "    MaxPooling1D(pool_size=2),\n",
        "    Conv1D(filters=64, kernel_size=3, activation='relu'),\n",
        "    MaxPooling1D(pool_size=2),\n",
        "    Flatten(),\n",
        "    Dense(64, activation='relu'),\n",
        "    Dropout(0.5),\n",
        "    Dense(1, activation='sigmoid')\n",
        "])\n",
        "\n",
        "model.compile(optimizer='adam',\n",
        "              loss='binary_crossentropy',\n",
        "              metrics=['accuracy'])"
      ],
      "metadata": {
        "id": "aiHWLFD02C7j"
      },
      "execution_count": 8,
      "outputs": []
    },
    {
      "cell_type": "code",
      "source": [
        "import pandas as pd\n",
        "from sklearn.model_selection import train_test_split\n",
        "from tensorflow.keras.models import Sequential\n",
        "from tensorflow.keras.layers import Embedding, Conv1D, MaxPooling1D, Flatten, Dense, Dropout\n",
        "\n",
        "df = df.dropna(subset=['Classe', 'Noticia_preprocessed'])\n",
        "\n",
        "train_data, val_data = train_test_split(df, test_size=0.2, random_state=42, stratify=df['Classe'])\n",
        "\n",
        "train_texts = train_data['Noticia_preprocessed'].values\n",
        "val_texts = val_data['Noticia_preprocessed'].values\n",
        "\n",
        "tokenizer = Tokenizer()\n",
        "tokenizer.fit_on_texts(train_texts)\n",
        "train_sequences = tokenizer.texts_to_sequences(train_texts)\n",
        "val_sequences = tokenizer.texts_to_sequences(val_texts)\n",
        "\n",
        "vocab_size = len(tokenizer.word_index) + 1\n",
        "max_length = max([len(seq) for seq in train_sequences + val_sequences])\n",
        "embedding_dim = 100\n",
        "\n",
        "train_padded = pad_sequences(train_sequences, maxlen=max_length, padding='post')\n",
        "val_padded = pad_sequences(val_sequences, maxlen=max_length, padding='post')\n",
        "\n",
        "train_labels = train_data['Classe'].values\n",
        "val_labels = val_data['Classe'].values\n",
        "\n",
        "def define_model(vocab_size, max_length, embedding_dim):\n",
        "    model = Sequential([\n",
        "        Embedding(input_dim=vocab_size, output_dim=embedding_dim, input_length=max_length),\n",
        "        Conv1D(filters=128, kernel_size=5, activation='relu'),\n",
        "        MaxPooling1D(pool_size=2),\n",
        "        Conv1D(filters=64, kernel_size=3, activation='relu'),\n",
        "        MaxPooling1D(pool_size=2),\n",
        "        Flatten(),\n",
        "        Dense(64, activation='relu'),\n",
        "        Dropout(0.5),\n",
        "        Dense(1, activation='sigmoid')\n",
        "    ])\n",
        "\n",
        "    model.compile(optimizer='adam',\n",
        "                  loss='binary_crossentropy',\n",
        "                  metrics=['accuracy'])\n",
        "\n",
        "    return model\n",
        "\n",
        "model = define_model(vocab_size, max_length, embedding_dim)\n",
        "\n",
        "batch_size = 32\n",
        "epochs = 10\n",
        "model.fit(train_padded, train_labels, batch_size=batch_size, epochs=epochs, validation_data=(val_padded, val_labels))"
      ],
      "metadata": {
        "colab": {
          "base_uri": "https://localhost:8080/"
        },
        "id": "B3YL__YQ4xik",
        "outputId": "8ac7eb55-ed26-4421-c215-b41a0529d17d"
      },
      "execution_count": 9,
      "outputs": [
        {
          "output_type": "stream",
          "name": "stdout",
          "text": [
            "Epoch 1/10\n",
            "298/298 [==============================] - 47s 145ms/step - loss: 0.3130 - accuracy: 0.8631 - val_loss: 0.1629 - val_accuracy: 0.9366\n",
            "Epoch 2/10\n",
            "298/298 [==============================] - 19s 65ms/step - loss: 0.0799 - accuracy: 0.9758 - val_loss: 0.1732 - val_accuracy: 0.9425\n",
            "Epoch 3/10\n",
            "298/298 [==============================] - 17s 59ms/step - loss: 0.0263 - accuracy: 0.9924 - val_loss: 0.2510 - val_accuracy: 0.9366\n",
            "Epoch 4/10\n",
            "298/298 [==============================] - 12s 40ms/step - loss: 0.0218 - accuracy: 0.9942 - val_loss: 0.2652 - val_accuracy: 0.9353\n",
            "Epoch 5/10\n",
            "298/298 [==============================] - 13s 42ms/step - loss: 0.0139 - accuracy: 0.9960 - val_loss: 0.3506 - val_accuracy: 0.9349\n",
            "Epoch 6/10\n",
            "298/298 [==============================] - 7s 24ms/step - loss: 0.0094 - accuracy: 0.9976 - val_loss: 0.3873 - val_accuracy: 0.9362\n",
            "Epoch 7/10\n",
            "298/298 [==============================] - 8s 27ms/step - loss: 0.0046 - accuracy: 0.9982 - val_loss: 0.4800 - val_accuracy: 0.9336\n",
            "Epoch 8/10\n",
            "298/298 [==============================] - 7s 22ms/step - loss: 0.0065 - accuracy: 0.9980 - val_loss: 0.5172 - val_accuracy: 0.9336\n",
            "Epoch 9/10\n",
            "298/298 [==============================] - 5s 18ms/step - loss: 0.0115 - accuracy: 0.9966 - val_loss: 0.4517 - val_accuracy: 0.9303\n",
            "Epoch 10/10\n",
            "298/298 [==============================] - 7s 23ms/step - loss: 0.0107 - accuracy: 0.9974 - val_loss: 0.4839 - val_accuracy: 0.9324\n"
          ]
        },
        {
          "output_type": "execute_result",
          "data": {
            "text/plain": [
              "<keras.src.callbacks.History at 0x7b1fe41a1f00>"
            ]
          },
          "metadata": {},
          "execution_count": 9
        }
      ]
    },
    {
      "cell_type": "code",
      "metadata": {
        "id": "nQHtl62QBV5Q",
        "colab": {
          "base_uri": "https://localhost:8080/"
        },
        "outputId": "eb536363-ab79-40c8-d244-64c1b98b54e3"
      },
      "source": [
        "from sklearn.metrics import accuracy_score, precision_score, recall_score, f1_score\n",
        "\n",
        "\n",
        "test_texts = val_data['Noticia_preprocessed'].values\n",
        "test_labels =val_data['Classe'].values\n",
        "\n",
        "test_sequences = tokenizer.texts_to_sequences(test_texts)\n",
        "test_padded = pad_sequences(test_sequences, maxlen=max_length, padding='post')\n",
        "\n",
        "test_predictions = model.predict(test_padded)\n",
        "test_predictions = (test_predictions > 0.5).astype(int)\n",
        "\n",
        "test_accuracy = accuracy_score(test_labels, test_predictions)\n",
        "test_precision = precision_score(test_labels, test_predictions)\n",
        "test_recall = recall_score(test_labels, test_predictions)\n",
        "test_f1 = f1_score(test_labels, test_predictions)\n",
        "\n",
        "print(f\"Test Accuracy: {test_accuracy:.4f}\")\n",
        "print(f\"Test Precision: {test_precision:.4f}\")\n",
        "print(f\"Test Recall: {test_recall:.4f}\")\n",
        "print(f\"Test F1-Score: {test_f1:.4f}\")"
      ],
      "execution_count": 12,
      "outputs": [
        {
          "output_type": "stream",
          "name": "stdout",
          "text": [
            "75/75 [==============================] - 0s 5ms/step\n",
            "Test Accuracy: 0.9324\n",
            "Test Precision: 0.9305\n",
            "Test Recall: 0.9345\n",
            "Test F1-Score: 0.9325\n"
          ]
        }
      ]
    },
    {
      "cell_type": "markdown",
      "source": [
        "Como podem observar, **nosso modelo obteve uma acurácia de 93%!** Isso pode indicar um modelo satisfatório, mas também pode estar sofrendo de overfitting. No entanto, devido à extensão considerável do conjunto de dados e à diversidade das notícias e autores, acredito ser pouco provável que o resultado esteja sendo afetado pelo sobreajuste."
      ],
      "metadata": {
        "id": "1a4HiohEKKjj"
      }
    },
    {
      "cell_type": "markdown",
      "source": [
        "## Conclusão\n",
        "Concluindo, o desenvolvimento e a implementação de um modelo de classificação de Fake News utilizando Deep Learning, especificamente a biblioteca TensorFlow, demonstrou ser uma abordagem promissora para lidar com o desafio crescente de identificar informações falsas em meio a um fluxo de notícias. A acurácia de 93% alcançada pelo modelo de Convolutional Neural Networks (CNNs) é encorajadora, sugerindo que o modelo está eficazmente discernindo entre notícias verdadeiras e falsas.\n",
        "\n",
        "A etapa inicial de pré-processamento, que envolve a remoção de pontuações e caracteres especiais sem valor, seguida pela conversão das palavras em \"tokens\", se mostrou fundamental para preparar os dados de entrada para o modelo de Deep Learning.\n",
        "\n",
        "\n",
        "Embora a possibilidade de overfitting seja uma preocupação válida, a diversidade do conjunto de dados utilizado e a considerável quantidade de exemplos sugerem que o impacto do sobreajuste é mitigado. No entanto, é prudente continuar monitorando o desempenho do modelo e realizar ajustes conforme necessário.\n",
        "\n",
        "No contexto atual, onde a disseminação de desinformação é uma preocupação global, a aplicação de técnicas avançadas de Machine Learning, como Redes Neurais, pode desempenhar um papel crucial na proteção da integridade da informação. Este estudo representa um passo significativo em direção à construção de sistemas mais robustos e eficazes para identificar e combater Fake News."
      ],
      "metadata": {
        "id": "8aiXUDrlDncv"
      }
    }
  ]
}